{
 "cells": [
  {
   "cell_type": "code",
   "execution_count": null,
   "id": "bda26e65-77f8-4796-955f-e832e27bda65",
   "metadata": {},
   "outputs": [],
   "source": []
  }
 ],
 "metadata": {
  "kernelspec": {
   "display_name": "",
   "name": ""
  },
  "language_info": {
   "name": ""
  }
 },
 "nbformat": 4,
 "nbformat_minor": 5
}
